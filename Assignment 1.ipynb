{
 "cells": [
  {
   "cell_type": "code",
   "execution_count": 1,
   "id": "40d05bd2-ffe3-40d2-9e28-099db0422e59",
   "metadata": {},
   "outputs": [],
   "source": [
    "#Question 1"
   ]
  },
  {
   "cell_type": "code",
   "execution_count": 2,
   "id": "75c8ea30-81e6-4b09-b27b-1eec2c43c899",
   "metadata": {},
   "outputs": [],
   "source": [
    "A= \"Assignment\""
   ]
  },
  {
   "cell_type": "code",
   "execution_count": 3,
   "id": "34813e15-50b1-4f39-90ee-3c71a830f01f",
   "metadata": {},
   "outputs": [
    {
     "data": {
      "text/plain": [
       "str"
      ]
     },
     "execution_count": 3,
     "metadata": {},
     "output_type": "execute_result"
    }
   ],
   "source": [
    "type(A)"
   ]
  },
  {
   "cell_type": "code",
   "execution_count": 4,
   "id": "4bae40d6-977b-4fa6-b152-dcc9338814a6",
   "metadata": {},
   "outputs": [],
   "source": [
    "B=[20,\"python\",\"skills\",80.33,\"$$\",5,3,2,1,4]"
   ]
  },
  {
   "cell_type": "code",
   "execution_count": 5,
   "id": "0c76b1ac-9f9d-42e5-a846-29e52b097c7a",
   "metadata": {},
   "outputs": [
    {
     "data": {
      "text/plain": [
       "list"
      ]
     },
     "execution_count": 5,
     "metadata": {},
     "output_type": "execute_result"
    }
   ],
   "source": [
    "type(B)"
   ]
  },
  {
   "cell_type": "code",
   "execution_count": 6,
   "id": "cb1b868c-2698-4dce-99a8-7eff0198e3fb",
   "metadata": {},
   "outputs": [],
   "source": [
    "C= 45.66"
   ]
  },
  {
   "cell_type": "code",
   "execution_count": 8,
   "id": "0878549a-56b1-47b7-b0d5-6b744ea9b379",
   "metadata": {},
   "outputs": [
    {
     "data": {
      "text/plain": [
       "float"
      ]
     },
     "execution_count": 8,
     "metadata": {},
     "output_type": "execute_result"
    }
   ],
   "source": [
    "type(C)"
   ]
  },
  {
   "cell_type": "code",
   "execution_count": 9,
   "id": "f9f23d6a-8a76-45f5-8b2e-41a3f0c0ba5e",
   "metadata": {},
   "outputs": [],
   "source": [
    "D=(2,3,4,5,6,\"python\",\"skills\",\"Data\",80.33,[20,\"python\",\"skills\",80.33,\"$$\",5,3,2,1,4])"
   ]
  },
  {
   "cell_type": "code",
   "execution_count": 10,
   "id": "f7fea5fc-a029-4986-beda-385ae73b825f",
   "metadata": {},
   "outputs": [
    {
     "data": {
      "text/plain": [
       "tuple"
      ]
     },
     "execution_count": 10,
     "metadata": {},
     "output_type": "execute_result"
    }
   ],
   "source": [
    "type(D)"
   ]
  },
  {
   "cell_type": "code",
   "execution_count": 11,
   "id": "fd26a56e-361b-44fc-9260-ba7286b05f2d",
   "metadata": {},
   "outputs": [],
   "source": [
    "#Question 2"
   ]
  },
  {
   "cell_type": "code",
   "execution_count": 12,
   "id": "f553ff1d-0c3f-4ba3-8f33-c565855c5a13",
   "metadata": {},
   "outputs": [],
   "source": [
    "var1=''"
   ]
  },
  {
   "cell_type": "code",
   "execution_count": 13,
   "id": "130806d1-3460-449f-93c5-e124179b408a",
   "metadata": {},
   "outputs": [
    {
     "data": {
      "text/plain": [
       "str"
      ]
     },
     "execution_count": 13,
     "metadata": {},
     "output_type": "execute_result"
    }
   ],
   "source": [
    "type(var1)"
   ]
  },
  {
   "cell_type": "code",
   "execution_count": 23,
   "id": "ec733e1c-1499-4781-9b85-5b18710f60d3",
   "metadata": {},
   "outputs": [],
   "source": [
    "var2='[DS, ML, Python]'"
   ]
  },
  {
   "cell_type": "code",
   "execution_count": 24,
   "id": "b50508ff-f1bd-4d44-8bf7-0bf6fe0792e7",
   "metadata": {},
   "outputs": [
    {
     "data": {
      "text/plain": [
       "str"
      ]
     },
     "execution_count": 24,
     "metadata": {},
     "output_type": "execute_result"
    }
   ],
   "source": [
    "type(var2)"
   ]
  },
  {
   "cell_type": "code",
   "execution_count": 17,
   "id": "9a031a7b-995f-46d0-9196-1cb17d6a437c",
   "metadata": {},
   "outputs": [],
   "source": [
    "var3 = [ 'DS' , 'ML' , 'Python']"
   ]
  },
  {
   "cell_type": "code",
   "execution_count": 20,
   "id": "304b57ec-350e-42a8-b739-61b9174af475",
   "metadata": {},
   "outputs": [
    {
     "data": {
      "text/plain": [
       "list"
      ]
     },
     "execution_count": 20,
     "metadata": {},
     "output_type": "execute_result"
    }
   ],
   "source": [
    "type(var3)"
   ]
  },
  {
   "cell_type": "code",
   "execution_count": 18,
   "id": "05ee20b4-db64-4340-a28d-2506508f7de5",
   "metadata": {},
   "outputs": [],
   "source": [
    "var4=1"
   ]
  },
  {
   "cell_type": "code",
   "execution_count": 19,
   "id": "52b020b1-372a-47d2-ab8b-7f5f53a43e1e",
   "metadata": {},
   "outputs": [
    {
     "data": {
      "text/plain": [
       "int"
      ]
     },
     "execution_count": 19,
     "metadata": {},
     "output_type": "execute_result"
    }
   ],
   "source": [
    "type(var4)"
   ]
  },
  {
   "cell_type": "code",
   "execution_count": 25,
   "id": "721098db-d31d-4239-ae4e-4ffcba1e64b9",
   "metadata": {},
   "outputs": [],
   "source": [
    "#Question 3"
   ]
  },
  {
   "cell_type": "code",
   "execution_count": null,
   "id": "6e8fc8e1-01f9-45f5-988e-c2b82e7a1639",
   "metadata": {},
   "outputs": [],
   "source": [
    "#'/' this is the arithmatic operator, used to divide two digits "
   ]
  },
  {
   "cell_type": "code",
   "execution_count": 30,
   "id": "4cf77b26-ee65-437a-915c-7ca1a0a75aa6",
   "metadata": {},
   "outputs": [
    {
     "data": {
      "text/plain": [
       "5.0"
      ]
     },
     "execution_count": 30,
     "metadata": {},
     "output_type": "execute_result"
    }
   ],
   "source": [
    "10/2"
   ]
  },
  {
   "cell_type": "code",
   "execution_count": null,
   "id": "d0e5a7f9-0b3e-4c19-a259-be3c0aa7b1bc",
   "metadata": {},
   "outputs": [],
   "source": [
    "#'%' this is called modulus operator, we can get remainder after dividing two digits"
   ]
  },
  {
   "cell_type": "code",
   "execution_count": 3,
   "id": "e650def9-bb2d-4dc2-8502-6cafa0acc09e",
   "metadata": {},
   "outputs": [
    {
     "data": {
      "text/plain": [
       "5"
      ]
     },
     "execution_count": 3,
     "metadata": {},
     "output_type": "execute_result"
    }
   ],
   "source": [
    "21%8"
   ]
  },
  {
   "cell_type": "code",
   "execution_count": 4,
   "id": "db9f2cbb-d0d1-4906-9578-bd74bade9360",
   "metadata": {},
   "outputs": [],
   "source": [
    "#'//' this operator used for floor division of two digits"
   ]
  },
  {
   "cell_type": "code",
   "execution_count": 5,
   "id": "374ff009-5e4d-4b43-9320-2f9a4d9a6c85",
   "metadata": {},
   "outputs": [
    {
     "data": {
      "text/plain": [
       "3"
      ]
     },
     "execution_count": 5,
     "metadata": {},
     "output_type": "execute_result"
    }
   ],
   "source": [
    "10//3"
   ]
  },
  {
   "cell_type": "code",
   "execution_count": 6,
   "id": "e9d9a671-09da-404c-a832-e05910adc178",
   "metadata": {},
   "outputs": [],
   "source": [
    "#'**' this is called exponent operator, which is used to find the sqaure, cube of the digits"
   ]
  },
  {
   "cell_type": "code",
   "execution_count": 8,
   "id": "947825ee-93f5-42e3-a4b0-d98dfc548cc6",
   "metadata": {},
   "outputs": [
    {
     "data": {
      "text/plain": [
       "8"
      ]
     },
     "execution_count": 8,
     "metadata": {},
     "output_type": "execute_result"
    }
   ],
   "source": [
    "2**3"
   ]
  },
  {
   "cell_type": "code",
   "execution_count": 22,
   "id": "33eebf0a-3bb1-4d59-9250-2f3cb4fed997",
   "metadata": {},
   "outputs": [],
   "source": [
    "#Question 4"
   ]
  },
  {
   "cell_type": "code",
   "execution_count": 9,
   "id": "c3696a8c-98ad-471e-be11-edc0792f9b81",
   "metadata": {},
   "outputs": [],
   "source": [
    "P=[2,3,8,83.33,True,'shubham','rahul', 8+9j, False,2045,]"
   ]
  },
  {
   "cell_type": "code",
   "execution_count": 21,
   "id": "38faf0af-5fbd-434e-b159-7a15f5de42dc",
   "metadata": {},
   "outputs": [
    {
     "name": "stdout",
     "output_type": "stream",
     "text": [
      "<class 'int'>\n",
      "2\n",
      "<class 'int'>\n",
      "3\n",
      "<class 'int'>\n",
      "8\n",
      "<class 'float'>\n",
      "83.33\n",
      "<class 'bool'>\n",
      "True\n",
      "<class 'str'>\n",
      "shubham\n",
      "<class 'str'>\n",
      "rahul\n",
      "<class 'complex'>\n",
      "(8+9j)\n",
      "<class 'bool'>\n",
      "False\n",
      "<class 'int'>\n",
      "2045\n",
      "end\n"
     ]
    }
   ],
   "source": [
    "for o in P:\n",
    "    print(type(o))\n",
    "    print(o)\n",
    "else:\n",
    "    print (\"end\")"
   ]
  },
  {
   "cell_type": "code",
   "execution_count": 23,
   "id": "96cae1d9-04fb-4551-9d7c-c404fb2b5a1d",
   "metadata": {},
   "outputs": [],
   "source": [
    "#Question 5"
   ]
  },
  {
   "cell_type": "code",
   "execution_count": 1,
   "id": "3c4ae3a4-d5a2-40ce-a4b3-92d01c4846b6",
   "metadata": {},
   "outputs": [
    {
     "name": "stdout",
     "output_type": "stream",
     "text": [
      "A is divisible by B 1 times\n"
     ]
    }
   ],
   "source": [
    "A = 30\n",
    "B = 2\n",
    "count = 0\n",
    "while A % B == 0:\n",
    "    count += 1\n",
    "    A = A / B\n",
    "print(f\"A is divisible by B {count} times\")"
   ]
  },
  {
   "cell_type": "code",
   "execution_count": 2,
   "id": "35962e0e-99c2-4c08-9907-44043328b29e",
   "metadata": {},
   "outputs": [],
   "source": [
    "# Question 6"
   ]
  },
  {
   "cell_type": "code",
   "execution_count": 14,
   "id": "6b420705-3929-43f6-ab1f-96cf696f9880",
   "metadata": {},
   "outputs": [
    {
     "name": "stdout",
     "output_type": "stream",
     "text": [
      "23 is not divisible by 3\n",
      "45 is divisible by 3\n",
      "89 is not divisible by 3\n",
      "71 is not divisible by 3\n",
      "82 is not divisible by 3\n",
      "65 is not divisible by 3\n",
      "32 is not divisible by 3\n",
      "115 is not divisible by 3\n",
      "809 is not divisible by 3\n",
      "54 is divisible by 3\n",
      "98 is not divisible by 3\n",
      "202 is not divisible by 3\n",
      "121 is not divisible by 3\n",
      "444 is divisible by 3\n",
      "64 is not divisible by 3\n",
      "99 is divisible by 3\n",
      "13 is not divisible by 3\n",
      "57 is divisible by 3\n",
      "96 is divisible by 3\n",
      "29 is not divisible by 3\n",
      "118 is not divisible by 3\n",
      "69 is divisible by 3\n",
      "788 is not divisible by 3\n",
      "909 is divisible by 3\n",
      "22 is not divisible by 3\n"
     ]
    }
   ],
   "source": [
    "L=[23,45,89,71,82,65,32,115,809,54,98,202,121,444,64,99,13,57,96,29,118,69,788,909,22]\n",
    "for o in L:\n",
    "    if o%3==0:\n",
    "        print(o, \"is divisible by 3\")\n",
    "    else:\n",
    "        print(o, \"is not divisible by 3\")"
   ]
  },
  {
   "cell_type": "code",
   "execution_count": 22,
   "id": "e8f27219-111f-4223-b793-544cd467362d",
   "metadata": {},
   "outputs": [],
   "source": [
    "# Question 7"
   ]
  },
  {
   "cell_type": "code",
   "execution_count": 23,
   "id": "504ef7ff-5c10-4561-94bb-f8a7d429f259",
   "metadata": {},
   "outputs": [],
   "source": [
    "# Mutable: Mutable means is that we can do any kind of modification in a datatype.\n",
    "        #   If we need to change or replace the vaue within the values, we can do \n",
    "       #   if the data type comes under mutation"
   ]
  },
  {
   "cell_type": "code",
   "execution_count": 24,
   "id": "2aae407f-c084-43d8-8b73-4fc0d49c8efc",
   "metadata": {},
   "outputs": [],
   "source": [
    "T=[89,56,92,\"shrinivas\"]"
   ]
  },
  {
   "cell_type": "code",
   "execution_count": 25,
   "id": "3a46fdfe-add1-4bea-98e6-025689c117c1",
   "metadata": {},
   "outputs": [
    {
     "data": {
      "text/plain": [
       "list"
      ]
     },
     "execution_count": 25,
     "metadata": {},
     "output_type": "execute_result"
    }
   ],
   "source": [
    "type(T)"
   ]
  },
  {
   "cell_type": "code",
   "execution_count": 32,
   "id": "3799771b-b262-4d85-a2ae-9fb7d4c09a54",
   "metadata": {},
   "outputs": [],
   "source": [
    "T[3]='shubham'"
   ]
  },
  {
   "cell_type": "code",
   "execution_count": 33,
   "id": "3e356020-14f9-4db1-b087-83b24d934ec7",
   "metadata": {},
   "outputs": [
    {
     "data": {
      "text/plain": [
       "[89, 56, 92, 'shubham']"
      ]
     },
     "execution_count": 33,
     "metadata": {},
     "output_type": "execute_result"
    }
   ],
   "source": [
    "T"
   ]
  },
  {
   "cell_type": "code",
   "execution_count": 31,
   "id": "897c6199-213b-4eb0-acd6-dea6a0a31467",
   "metadata": {},
   "outputs": [],
   "source": [
    "#if we compare row 24 with row 30 the values has changed."
   ]
  },
  {
   "cell_type": "code",
   "execution_count": 34,
   "id": "96d4a4d3-4eb7-4ef4-9ae8-a83ea235dd6a",
   "metadata": {},
   "outputs": [],
   "source": [
    "#Immutable: Immutable datatypes are those data types where we can't make any changes within the values."
   ]
  },
  {
   "cell_type": "code",
   "execution_count": 35,
   "id": "640cd72a-7d6a-4256-b7f9-cdd949c383b6",
   "metadata": {},
   "outputs": [],
   "source": [
    "V=('Akshar')"
   ]
  },
  {
   "cell_type": "code",
   "execution_count": 36,
   "id": "abbe2792-becb-46be-a0e9-16ca2203cbf3",
   "metadata": {},
   "outputs": [
    {
     "data": {
      "text/plain": [
       "str"
      ]
     },
     "execution_count": 36,
     "metadata": {},
     "output_type": "execute_result"
    }
   ],
   "source": [
    "type(V)"
   ]
  },
  {
   "cell_type": "code",
   "execution_count": 39,
   "id": "38eae8bc-b891-4079-b9cc-7ad6e9ec1f38",
   "metadata": {},
   "outputs": [
    {
     "ename": "SyntaxError",
     "evalue": "cannot assign to function call here. Maybe you meant '==' instead of '='? (1594905393.py, line 1)",
     "output_type": "error",
     "traceback": [
      "\u001b[0;36m  Cell \u001b[0;32mIn[39], line 1\u001b[0;36m\u001b[0m\n\u001b[0;31m    V(2) ='a'\u001b[0m\n\u001b[0m    ^\u001b[0m\n\u001b[0;31mSyntaxError\u001b[0m\u001b[0;31m:\u001b[0m cannot assign to function call here. Maybe you meant '==' instead of '='?\n"
     ]
    }
   ],
   "source": [
    "V(2) ='a'"
   ]
  },
  {
   "cell_type": "code",
   "execution_count": null,
   "id": "d9af4515-832d-4ff7-a29a-bcf2b113f38b",
   "metadata": {},
   "outputs": [],
   "source": []
  }
 ],
 "metadata": {
  "kernelspec": {
   "display_name": "Python 3 (ipykernel)",
   "language": "python",
   "name": "python3"
  },
  "language_info": {
   "codemirror_mode": {
    "name": "ipython",
    "version": 3
   },
   "file_extension": ".py",
   "mimetype": "text/x-python",
   "name": "python",
   "nbconvert_exporter": "python",
   "pygments_lexer": "ipython3",
   "version": "3.10.8"
  }
 },
 "nbformat": 4,
 "nbformat_minor": 5
}
